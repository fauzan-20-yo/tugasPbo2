{
  "nbformat": 4,
  "nbformat_minor": 0,
  "metadata": {
    "colab": {
      "provenance": [],
      "authorship_tag": "ABX9TyODYaOHza1OPRn31i46GQhj",
      "include_colab_link": true
    },
    "kernelspec": {
      "name": "python3",
      "display_name": "Python 3"
    },
    "language_info": {
      "name": "python"
    }
  },
  "cells": [
    {
      "cell_type": "markdown",
      "metadata": {
        "id": "view-in-github",
        "colab_type": "text"
      },
      "source": [
        "<a href=\"https://colab.research.google.com/github/fauzan-20-yo/tugasPbo2/blob/main/tugas_2_pbo.ipynb\" target=\"_parent\"><img src=\"https://colab.research.google.com/assets/colab-badge.svg\" alt=\"Open In Colab\"/></a>"
      ]
    },
    {
      "cell_type": "code",
      "source": [
        "# 1 : mahasiswa.py\n",
        "class Mahasiswa:\n",
        "    def __init__(self, nama, nim):\n",
        "        self.nama = nama\n",
        "        self.nim = nim\n",
        "\n",
        "    def cetak_krs(self):\n",
        "        print(f\"Mahasiswa {self.nama} dengan NIM {self.nim} telah mencetak KRS.\")\n",
        "\n",
        "mhs = Mahasiswa(\"Fauzan\", 230705072)\n",
        "mhs.cetak_krs()\n"
      ],
      "metadata": {
        "colab": {
          "base_uri": "https://localhost:8080/"
        },
        "id": "0vCvKlM_RCWc",
        "outputId": "f73d58b6-7e2c-40c9-dfdc-4776b013d30e"
      },
      "execution_count": null,
      "outputs": [
        {
          "output_type": "stream",
          "name": "stdout",
          "text": [
            "Mahasiswa Fauzan dengan NIM 230705072 telah mencetak KRS.\n"
          ]
        }
      ]
    },
    {
      "cell_type": "code",
      "source": [
        "# 2 : Segitiga.py\n",
        "class Segitiga:\n",
        "    def __init__(self):\n",
        "        self.alas = 0.0\n",
        "        self.tinggi = 0.0\n",
        "\n",
        "def main():\n",
        "    obj = Segitiga()\n",
        "    obj.alas = 5\n",
        "    obj.tinggi = 3\n",
        "    luas = 0.10 * obj.alas * obj.tinggi\n",
        "    print('Luas segitiga = %.2f' % luas)\n",
        "if __name__ == \"__main__\":\n",
        "    main()\n",
        "\n"
      ],
      "metadata": {
        "colab": {
          "base_uri": "https://localhost:8080/"
        },
        "id": "2hjCQ5SGRVhK",
        "outputId": "90df0ed6-ccf3-4336-83b4-27ab410121e9"
      },
      "execution_count": null,
      "outputs": [
        {
          "output_type": "stream",
          "name": "stdout",
          "text": [
            "Luas segitiga = 1.50\n"
          ]
        }
      ]
    },
    {
      "cell_type": "code",
      "source": [
        "# 3 : lingkaran.py\n",
        "class Lingkaran:\n",
        "    def __init__(self, radius):\n",
        "        self.radius = radius\n",
        "\n",
        "    def buat_lingkaran(self):\n",
        "        luas = 3.14 * self.radius * self.radius\n",
        "        print(f\"Luas lingkaran dengan radius {self.radius} adalah {luas:.2f}\")\n",
        "\n",
        "blt = Lingkaran(7)\n",
        "blt.buat_lingkaran()"
      ],
      "metadata": {
        "id": "iDsVUWTgjBGX",
        "outputId": "6b789a63-9576-4649-8627-bc0d7056b39c",
        "colab": {
          "base_uri": "https://localhost:8080/"
        }
      },
      "execution_count": null,
      "outputs": [
        {
          "output_type": "stream",
          "name": "stdout",
          "text": [
            "Luas lingkaran dengan radius 7 adalah 153.86\n"
          ]
        }
      ]
    },
    {
      "cell_type": "code",
      "source": [
        "\n",
        "\n",
        "# 4  : Persegi.py\n",
        "class Persegi:\n",
        "    def __init__(self, sisi):\n",
        "        self.sisi = sisi\n",
        "\n",
        "    def hitung_luas(self):\n",
        "        luas = self.sisi * self.sisi\n",
        "        print(f\"Luas persegi dengan sisi {self.sisi} adalah {luas}\")\n",
        "\n",
        "persegi = Persegi(5)\n",
        "persegi.hitung_luas()\n"
      ],
      "metadata": {
        "colab": {
          "base_uri": "https://localhost:8080/"
        },
        "id": "AWb9zzXQSoh5",
        "outputId": "13ea743f-d5ed-4cc7-d380-a9918ab62c6c"
      },
      "execution_count": null,
      "outputs": [
        {
          "output_type": "stream",
          "name": "stdout",
          "text": [
            "Luas persegi dengan sisi 5 adalah 25\n"
          ]
        }
      ]
    },
    {
      "cell_type": "code",
      "source": [
        "# 5 : clas mobil.py\n",
        "class Mobil:\n",
        "    def __init__(self, merk, tahun):\n",
        "        self.merk = merk\n",
        "        self.tahun = tahun\n",
        "\n",
        "    def info_mobil(self):\n",
        "        print(f\"Mobil {self.merk} keluaran tahun {self.tahun}.\")\n",
        "\n",
        "mobil = Mobil(\"Toyota supra\", 2025)\n",
        "mobil.info_mobil()\n"
      ],
      "metadata": {
        "colab": {
          "base_uri": "https://localhost:8080/"
        },
        "id": "jxv8Ku3RUkBG",
        "outputId": "79e4c131-b82f-4305-ca96-8cdd164ccfe2"
      },
      "execution_count": null,
      "outputs": [
        {
          "output_type": "stream",
          "name": "stdout",
          "text": [
            "Mobil Toyota supra keluaran tahun 2025.\n"
          ]
        }
      ]
    }
  ]
}